{
 "cells": [
  {
   "cell_type": "code",
   "execution_count": 1,
   "metadata": {},
   "outputs": [],
   "source": [
    "%defaultDatasource jdbc:h2:mem:db"
   ]
  },
  {
   "cell_type": "code",
   "execution_count": 2,
   "metadata": {},
   "outputs": [],
   "source": [
    "DROP TABLE IF EXISTS Disease;\n",
    "DROP TABLE IF EXISTS Symptom;\n",
    "DROP TABLE IF EXISTS Cause;\n",
    "DROP TABLE IF EXISTS Similarity;\n",
    "\n",
    "CREATE TABLE Disease (\n",
    "    name VARCHAR(512) NOT NULL,\n",
    "    occurrences INT NOT NULL,\n",
    "    PRIMARY KEY (name)\n",
    ") AS SELECT * FROM CSVREAD('../data/ncomms-disease.csv', null, 'charset=UTF-8 fieldSeparator=|');\n",
    "\n",
    "CREATE TABLE Symptom (\n",
    "    name VARCHAR(512) NOT NULL,\n",
    "    occurrences INT NOT NULL,\n",
    "    PRIMARY KEY (name)\n",
    ") AS SELECT * FROM CSVREAD('../data/ncomms-symptom.csv', null, 'charset=UTF-8 fieldSeparator=|');\n",
    "\n",
    "CREATE TABLE Cause (\n",
    "    symptom VARCHAR(512) NOT NULL,\n",
    "    disease VARCHAR(512) NOT NULL,\n",
    "    occurrences INT NOT NULL,\n",
    "    score DOUBLE NOT NULL,\n",
    "    PRIMARY KEY (disease, symptom),\n",
    "    FOREIGN KEY (disease)\n",
    "        REFERENCES Disease(name)\n",
    "            ON DELETE NO ACTION\n",
    "            ON UPDATE NO ACTION,\n",
    "    FOREIGN KEY (symptom)\n",
    "        REFERENCES Symptom(name)\n",
    "            ON DELETE NO ACTION\n",
    "            ON UPDATE NO ACTION,\n",
    ") AS SELECT * FROM CSVREAD('../data/ncomms-cause.csv', null, 'charset=UTF-8 fieldSeparator=|');\n",
    "\n",
    "CREATE TABLE Similarity (\n",
    "    disease_from VARCHAR(512) NOT NULL,\n",
    "    disease_to VARCHAR(512) NOT NULL,\n",
    "    score DOUBLE NOT NULL,\n",
    "    PRIMARY KEY (disease_from, disease_to),\n",
    "    FOREIGN KEY (disease_from)\n",
    "        REFERENCES Disease(name)\n",
    "            ON DELETE NO ACTION\n",
    "            ON UPDATE NO ACTION,\n",
    "    FOREIGN KEY (disease_to)\n",
    "        REFERENCES Disease(name)\n",
    "            ON DELETE NO ACTION\n",
    "            ON UPDATE NO ACTION,\n",
    ") AS SELECT * FROM CSVREAD('../data/ncomms-similarity.csv', null, 'charset=UTF-8 fieldSeparator=|');"
   ]
  }
 ],
 "metadata": {
  "kernelspec": {
   "display_name": "SQL",
   "language": "SQL",
   "name": "sql"
  },
  "language_info": {
   "codemirror_mode": "sql",
   "file_extension": ".sql",
   "mimetype": "",
   "name": "SQL",
   "nbconverter_exporter": "",
   "version": ""
  },
  "toc": {
   "base_numbering": 1,
   "nav_menu": {},
   "number_sections": false,
   "sideBar": false,
   "skip_h1_title": false,
   "title_cell": "Table of Contents",
   "title_sidebar": "Contents",
   "toc_cell": false,
   "toc_position": {},
   "toc_section_display": false,
   "toc_window_display": false
  }
 },
 "nbformat": 4,
 "nbformat_minor": 2
}
