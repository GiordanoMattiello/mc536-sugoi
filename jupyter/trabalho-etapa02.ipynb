{
 "cells": [
  {
   "cell_type": "code",
   "execution_count": 1,
   "metadata": {},
   "outputs": [],
   "source": [
    "%defaultDatasource jdbc:h2:mem:db"
   ]
  },
  {
   "cell_type": "markdown",
   "metadata": {},
   "source": [
    "# Modelagem"
   ]
  },
  {
   "cell_type": "markdown",
   "metadata": {},
   "source": [
    "## Modelo Conceitual\n",
    "![Modelo Conceitual](../img/conceitual.png \"Title\")"
   ]
  },
  {
   "cell_type": "markdown",
   "metadata": {},
   "source": [
    "## Modelo Lógico\n",
    "\n",
    "- **Disease**(*name*, occurrences)\n",
    "- **Symptom**(*name*, occurrences)\n",
    "- **Cause**(*disease*, *symptom*, occurrences, score)\n",
    "    - Chave Estrangeira: *disease* -> **Disease**\n",
    "    - Chave Estrangeira: *symptom* -> **Symptom**\n",
    "- **Similarity**(disease_from, disease_to, score)\n",
    "    - Chave Estrangeira: *disease_from* -> **Disease**\n",
    "    - Chave Estrangeira: *disease_to* -> **Disease**\n"
   ]
  },
  {
   "cell_type": "markdown",
   "metadata": {},
   "source": [
    "# Criação das Tabelas Relacionais"
   ]
  },
  {
   "cell_type": "code",
   "execution_count": 2,
   "metadata": {},
   "outputs": [],
   "source": [
    "DROP TABLE IF EXISTS Disease;\n",
    "DROP TABLE IF EXISTS Symptom;\n",
    "DROP TABLE IF EXISTS Cause;\n",
    "DROP TABLE IF EXISTS Similarity;\n",
    "\n",
    "CREATE TABLE Disease (\n",
    "    name VARCHAR(512) NOT NULL,\n",
    "    occurrences INT NOT NULL,\n",
    "    PRIMARY KEY (name)\n",
    ") AS SELECT * FROM CSVREAD('../data/ncomms-disease.csv', null, 'charset=UTF-8 fieldSeparator=|');\n",
    "\n",
    "CREATE TABLE Symptom (\n",
    "    name VARCHAR(512) NOT NULL,\n",
    "    occurrences INT NOT NULL,\n",
    "    PRIMARY KEY (name)\n",
    ") AS SELECT * FROM CSVREAD('../data/ncomms-symptom.csv', null, 'charset=UTF-8 fieldSeparator=|');\n",
    "\n",
    "CREATE TABLE Cause (\n",
    "    symptom VARCHAR(512) NOT NULL,\n",
    "    disease VARCHAR(512) NOT NULL,\n",
    "    occurrences INT NOT NULL,\n",
    "    score DOUBLE NOT NULL,\n",
    "    PRIMARY KEY (disease, symptom),\n",
    "    FOREIGN KEY (disease)\n",
    "        REFERENCES Disease(name)\n",
    "            ON DELETE NO ACTION\n",
    "            ON UPDATE NO ACTION,\n",
    "    FOREIGN KEY (symptom)\n",
    "        REFERENCES Symptom(name)\n",
    "            ON DELETE NO ACTION\n",
    "            ON UPDATE NO ACTION,\n",
    ") AS SELECT * FROM CSVREAD('../data/ncomms-cause.csv', null, 'charset=UTF-8 fieldSeparator=|');\n",
    "\n",
    "CREATE TABLE Similarity (\n",
    "    disease_from VARCHAR(512) NOT NULL,\n",
    "    disease_to VARCHAR(512) NOT NULL,\n",
    "    score DOUBLE NOT NULL,\n",
    "    PRIMARY KEY (disease_from, disease_to),\n",
    "    FOREIGN KEY (disease_from)\n",
    "        REFERENCES Disease(name)\n",
    "            ON DELETE NO ACTION\n",
    "            ON UPDATE NO ACTION,\n",
    "    FOREIGN KEY (disease_to)\n",
    "        REFERENCES Disease(name)\n",
    "            ON DELETE NO ACTION\n",
    "            ON UPDATE NO ACTION,\n",
    ") AS SELECT * FROM CSVREAD('../data/ncomms-similarity.csv', null, 'charset=UTF-8 fieldSeparator=|');"
   ]
  },
  {
   "cell_type": "code",
   "execution_count": 3,
   "metadata": {},
   "outputs": [
    {
     "data": {
      "application/vnd.jupyter.widget-view+json": {
       "model_id": "ee1e927f-6f5c-45f4-a944-a10052b92f3b",
       "version_major": 2,
       "version_minor": 0
      },
      "method": "display_data"
     },
     "metadata": {},
     "output_type": "display_data"
    },
    {
     "data": {
      "application/vnd.jupyter.widget-view+json": {
       "model_id": "4b01ed2f-907a-44f2-929a-a5d013417d75",
       "version_major": 2,
       "version_minor": 0
      },
      "method": "display_data"
     },
     "metadata": {},
     "output_type": "display_data"
    }
   ],
   "source": [
    "SELECT * FROM Disease;\n",
    "SELECT * FROM Symptom;"
   ]
  },
  {
   "cell_type": "markdown",
   "metadata": {},
   "source": [
    "# Análise de Dados"
   ]
  },
  {
   "cell_type": "markdown",
   "metadata": {},
   "source": [
    "### Retornar o Score médio de sintomas de cada doença"
   ]
  },
  {
   "cell_type": "code",
   "execution_count": 8,
   "metadata": {},
   "outputs": [],
   "source": [
    "DROP VIEW AvgScore;"
   ]
  },
  {
   "cell_type": "code",
   "execution_count": 9,
   "metadata": {},
   "outputs": [],
   "source": [
    "CREATE VIEW AvgScore AS\n",
    "SELECT c.disease disease, AVG(c.score) avg\n",
    "FROM Cause c\n",
    "GROUP BY c.disease;"
   ]
  },
  {
   "cell_type": "code",
   "execution_count": 10,
   "metadata": {},
   "outputs": [
    {
     "data": {
      "application/vnd.jupyter.widget-view+json": {
       "model_id": "949bbae2-9b3e-416f-b443-56caf158369c",
       "version_major": 2,
       "version_minor": 0
      },
      "method": "display_data"
     },
     "metadata": {},
     "output_type": "display_data"
    }
   ],
   "source": [
    "SELECT * FROM AvgScore;"
   ]
  },
  {
   "cell_type": "markdown",
   "metadata": {},
   "source": [
    "### Sintomas com score acima da média para uma doença específica\n",
    "\n",
    "Retornar os sintomas mais recorrentes (acima da média de score) da doença \"Diabetes Mellitus, Type 1\"."
   ]
  },
  {
   "cell_type": "code",
   "execution_count": 18,
   "metadata": {},
   "outputs": [
    {
     "data": {
      "application/vnd.jupyter.widget-view+json": {
       "model_id": "92f3152c-f954-48fe-a992-618c68d47303",
       "version_major": 2,
       "version_minor": 0
      },
      "method": "display_data"
     },
     "metadata": {},
     "output_type": "display_data"
    }
   ],
   "source": [
    "SELECT c.symptom, c.score\n",
    "FROM Cause c\n",
    "WHERE c.score > (SELECT a.avg FROM AvgScore a WHERE a.disease = c.disease)\n",
    "    AND c.disease = 'Diabetes Mellitus, Type 1'\n",
    "ORDER BY c.score DESC;"
   ]
  },
  {
   "cell_type": "markdown",
   "metadata": {},
   "source": [
    "### Dado uma lista de sintomas, retornar as doenças possíveis que contém estes sintomas"
   ]
  },
  {
   "cell_type": "markdown",
   "metadata": {},
   "source": [
    "- Criar uma tabela fictícia com a lista de sintomas"
   ]
  },
  {
   "cell_type": "code",
   "execution_count": 49,
   "metadata": {},
   "outputs": [],
   "source": [
    "DROP VIEW SymptomsList;"
   ]
  },
  {
   "cell_type": "code",
   "execution_count": 50,
   "metadata": {},
   "outputs": [],
   "source": [
    "CREATE VIEW SymptomsList AS\n",
    "SELECT c.symptom\n",
    "FROM Cause c\n",
    "WHERE c.score > (SELECT a.avg FROM AvgScore a WHERE a.disease = c.disease)\n",
    "    AND c.disease = 'Diabetes Mellitus, Type 1'\n",
    "ORDER BY c.score DESC\n",
    "LIMIT 4;"
   ]
  },
  {
   "cell_type": "code",
   "execution_count": 51,
   "metadata": {},
   "outputs": [
    {
     "data": {
      "application/vnd.jupyter.widget-view+json": {
       "model_id": "2869ef10-4aed-4ad2-a6e1-04dc2351c3f0",
       "version_major": 2,
       "version_minor": 0
      },
      "method": "display_data"
     },
     "metadata": {},
     "output_type": "display_data"
    }
   ],
   "source": [
    "SELECT * FROM SymptomsList;"
   ]
  },
  {
   "cell_type": "markdown",
   "metadata": {},
   "source": [
    "- Procurar as doenças que possuem todos os sintomas da VIEW **SymptomsList**"
   ]
  },
  {
   "cell_type": "code",
   "execution_count": 52,
   "metadata": {},
   "outputs": [
    {
     "data": {
      "application/vnd.jupyter.widget-view+json": {
       "model_id": "5f38ee5b-4ff2-4c05-9276-bad671cc045c",
       "version_major": 2,
       "version_minor": 0
      },
      "method": "display_data"
     },
     "metadata": {},
     "output_type": "display_data"
    }
   ],
   "source": [
    "SELECT d.name, d.occurrences\n",
    "FROM Disease d, Cause c, SymptomsList sl\n",
    "WHERE d.name = c.disease\n",
    "    AND c.symptom = sl.symptom\n",
    "GROUP BY d.name\n",
    "HAVING COUNT(c.symptom) = (SELECT COUNT(*) FROM SymptomsList)\n",
    "ORDER BY d.occurrences DESC"
   ]
  },
  {
   "cell_type": "markdown",
   "metadata": {},
   "source": [
    "### Retornar doenças similares (score > 0.8) a uma doença específica"
   ]
  },
  {
   "cell_type": "code",
   "execution_count": 70,
   "metadata": {},
   "outputs": [
    {
     "data": {
      "application/vnd.jupyter.widget-view+json": {
       "model_id": "1c644906-2ef7-4603-b5f1-26e02ad86a9f",
       "version_major": 2,
       "version_minor": 0
      },
      "method": "display_data"
     },
     "metadata": {},
     "output_type": "display_data"
    }
   ],
   "source": [
    "SELECT disease_from, disease_to, score\n",
    "FROM Similarity\n",
    "WHERE (disease_from = 'Diabetes Mellitus, Type 1'\n",
    "    OR disease_to = 'Diabetes Mellitus, Type 1')\n",
    "    AND score > 0.8\n",
    "ORDER BY score DESC"
   ]
  },
  {
   "cell_type": "markdown",
   "metadata": {},
   "source": [
    "### Comparação entre sintomas de uma doença e da doença mais similar a esta"
   ]
  },
  {
   "cell_type": "markdown",
   "metadata": {},
   "source": [
    "- Listar os sintomas de uma doença"
   ]
  },
  {
   "cell_type": "code",
   "execution_count": 75,
   "metadata": {},
   "outputs": [
    {
     "data": {
      "application/vnd.jupyter.widget-view+json": {
       "model_id": "7df486fd-bd1f-4791-af6d-183fa0c98687",
       "version_major": 2,
       "version_minor": 0
      },
      "method": "display_data"
     },
     "metadata": {},
     "output_type": "display_data"
    }
   ],
   "source": [
    "SELECT symptom\n",
    "FROM Cause\n",
    "WHERE disease = 'Diabetes Mellitus, Type 1'\n",
    "ORDER BY symptom"
   ]
  },
  {
   "cell_type": "markdown",
   "metadata": {},
   "source": [
    "- Listar os sintomas da doença mais similar"
   ]
  },
  {
   "cell_type": "code",
   "execution_count": 76,
   "metadata": {},
   "outputs": [
    {
     "data": {
      "application/vnd.jupyter.widget-view+json": {
       "model_id": "21b24498-989f-410d-a7cb-04b7e7f389bd",
       "version_major": 2,
       "version_minor": 0
      },
      "method": "display_data"
     },
     "metadata": {},
     "output_type": "display_data"
    }
   ],
   "source": [
    "SELECT symptom\n",
    "FROM Cause\n",
    "WHERE disease = (SELECT disease_from FROM Similarity WHERE disease_to = 'Diabetes Mellitus, Type 1' ORDER BY score DESC LIMIT 1)\n",
    "ORDER BY symptom"
   ]
  },
  {
   "cell_type": "markdown",
   "metadata": {},
   "source": [
    "- Listar os sintomas que fazem parte da 'Diabetes Mellitus, Type 1' e não fazem parte da doença mais similar"
   ]
  },
  {
   "cell_type": "code",
   "execution_count": 77,
   "metadata": {},
   "outputs": [
    {
     "data": {
      "application/vnd.jupyter.widget-view+json": {
       "model_id": "86c99dbd-94bf-41ee-beb9-47ac38be8199",
       "version_major": 2,
       "version_minor": 0
      },
      "method": "display_data"
     },
     "metadata": {},
     "output_type": "display_data"
    }
   ],
   "source": [
    "SELECT cdiabetes.symptom\n",
    "FROM Cause cdiabetes\n",
    "WHERE cdiabetes.disease = 'Diabetes Mellitus, Type 1'\n",
    "    AND cdiabetes.symptom NOT IN (SELECT csimilar.symptom\n",
    "                                  FROM Cause csimilar\n",
    "                                  WHERE csimilar.disease = (SELECT disease_from FROM Similarity WHERE disease_to = 'Diabetes Mellitus, Type 1' ORDER BY score DESC LIMIT 1))\n",
    "ORDER BY cdiabetes.symptom"
   ]
  },
  {
   "cell_type": "markdown",
   "metadata": {},
   "source": [
    "- Listar os sintomas que fazem parte da 'Diabetes Mellitus, Type 1' e fazem parte da doença mais similar"
   ]
  },
  {
   "cell_type": "code",
   "execution_count": 78,
   "metadata": {},
   "outputs": [
    {
     "data": {
      "application/vnd.jupyter.widget-view+json": {
       "model_id": "7df7460a-e75e-4509-a55d-89d37e1f516b",
       "version_major": 2,
       "version_minor": 0
      },
      "method": "display_data"
     },
     "metadata": {},
     "output_type": "display_data"
    }
   ],
   "source": [
    "SELECT cdiabetes.symptom\n",
    "FROM Cause cdiabetes\n",
    "WHERE cdiabetes.disease = 'Diabetes Mellitus, Type 1'\n",
    "    AND cdiabetes.symptom IN (SELECT csimilar.symptom\n",
    "                                  FROM Cause csimilar\n",
    "                                  WHERE csimilar.disease = (SELECT disease_from FROM Similarity WHERE disease_to = 'Diabetes Mellitus, Type 1' ORDER BY score DESC LIMIT 1))\n",
    "ORDER BY cdiabetes.symptom"
   ]
  }
 ],
 "metadata": {
  "kernelspec": {
   "display_name": "SQL",
   "language": "SQL",
   "name": "sql"
  },
  "language_info": {
   "codemirror_mode": "sql",
   "file_extension": ".sql",
   "mimetype": "",
   "name": "SQL",
   "nbconverter_exporter": "",
   "version": ""
  },
  "toc": {
   "base_numbering": 1,
   "nav_menu": {},
   "number_sections": false,
   "sideBar": false,
   "skip_h1_title": false,
   "title_cell": "Table of Contents",
   "title_sidebar": "Contents",
   "toc_cell": false,
   "toc_position": {},
   "toc_section_display": false,
   "toc_window_display": false
  }
 },
 "nbformat": 4,
 "nbformat_minor": 2
}
