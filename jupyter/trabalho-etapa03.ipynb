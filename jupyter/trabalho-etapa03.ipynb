{
 "cells": [
  {
   "cell_type": "code",
   "execution_count": 1,
   "metadata": {},
   "outputs": [],
   "source": [
    "%defaultDatasource jdbc:h2:mem:db"
   ]
  },
  {
   "cell_type": "markdown",
   "metadata": {},
   "source": [
    "# Modelagem"
   ]
  },
  {
   "cell_type": "markdown",
   "metadata": {},
   "source": [
    "## Modelo Conceitual\n",
    "![Modelo Conceitual](../img/conceitual-v3.png \"Title\")"
   ]
  },
  {
   "cell_type": "markdown",
   "metadata": {},
   "source": [
    "## Modelo Lógico\n",
    "\n",
    "- **Disease**(*name*, occurrences)\n",
    "- **Symptom**(*name*, occurrences)\n",
    "- **Cause**(*disease*, *symptom*, occurrences, score)\n",
    "    - Chave Estrangeira: *disease* -> **Disease**\n",
    "    - Chave Estrangeira: *symptom* -> **Symptom**\n",
    "- **Similarity**(disease_from, disease_to, score)\n",
    "    - Chave Estrangeira: *disease_from* -> **Disease**\n",
    "    - Chave Estrangeira: *disease_to* -> **Disease**\n",
    "    \n",
    "- **HighSimilarity**(disease_from, disease_to, score)\n",
    "    - Chave Estrangeira: *disease_from* -> **Disease**\n",
    "    - Chave Estrangeira: *disease_to* -> **Disease**\n"
   ]
  },
  {
   "cell_type": "markdown",
   "metadata": {},
   "source": [
    "# Criação das Tabelas Relacionais"
   ]
  },
  {
   "cell_type": "markdown",
   "metadata": {},
   "source": [
    "```\n",
    "LOAD CSV WITH HEADERS FROM \"https://raw.githubusercontent.com/esdrasbrz/mc536-sugoi/master/data/ncomms-disease.csv\" AS line\n",
    "FIELDTERMINATOR '|'\n",
    "CREATE (d:Disease {name: line.name, occurrences: toInt(line.occurrences)})\n",
    "\n",
    "LOAD CSV WITH HEADERS FROM \"https://raw.githubusercontent.com/esdrasbrz/mc536-sugoi/master/data/ncomms-symptom.csv\" AS line\n",
    "FIELDTERMINATOR '|'\n",
    "CREATE (s:Symptom {name: line.name, occurrences: toInt(line.occurrences)})\n",
    "\n",
    "LOAD CSV WITH HEADERS FROM \"https://raw.githubusercontent.com/esdrasbrz/mc536-sugoi/master/data/ncomms-cause.csv\" AS line\n",
    "FIELDTERMINATOR '|'\n",
    "MATCH (s:Symptom {name: line.symptom})\n",
    "MATCH (d:Disease {name: line.disease})\n",
    "CREATE (d)-[:CAUSES {occurrences: line.occurrences, score: toFloat(line.score)}]->(s)\n",
    "\n",
    "LOAD CSV WITH HEADERS FROM \"https://raw.githubusercontent.com/esdrasbrz/mc536-sugoi/master/data/ncomms-similarity.csv\" AS line\n",
    "FIELDTERMINATOR '|'\n",
    "MATCH (f:Disease {name: line.disease_from})\n",
    "MATCH (t:Disease {name: line.disease_to})\n",
    "CREATE (f)-[:SIMILAR_TO {score: toFloat(line.score)}]->(t)\n",
    "\n",
    "MATCH (f:Disease)-[sim:SIMILAR_TO]->(t:Disease)\n",
    "WHERE sim.score >= 0.8\n",
    "CREATE (f)-[:VERY_SIMILAR_TO {score: sim.score}]->(t)\n",
    "```"
   ]
  },
  {
   "cell_type": "markdown",
   "metadata": {},
   "source": [
    "# Análise de Dados"
   ]
  },
  {
   "cell_type": "markdown",
   "metadata": {},
   "source": [
    "### Doenças que possuem o sintoma \"Amnesia\"\n",
    "\n",
    "Listagem das doenças que possuem o sintoma amnésia e suas relações de similaridade. Considerar apenas doenças com score acima de 200 para esse sintoma.\n",
    "    \n",
    "```\n",
    "MATCH (d:Disease)-[c:CAUSES]->(s:Symptom {name: \"Amnesia\"})\n",
    "WHERE c.score > 200\n",
    "RETURN d, s\n",
    "```\n",
    "\n",
    "![Sintoma Amnesia](../img/sintoma_amnesia.png \"Title\")"
   ]
  },
  {
   "cell_type": "markdown",
   "metadata": {},
   "source": [
    "### Similaridade de doenças com Diabetes Tipo 1 em dois níveis\n",
    "\n",
    "Listagem das doenças muito similares (VERY_SIMILAR_TO) com Diabetes Tipo 1 em dois níveis de hierarquia, isso é, as doenças similares diretamente a Diabetes e as doenças similares às similares à Diabetes. A query pode ser extendida para mais de dois níveis.\n",
    "    \n",
    "```\n",
    "MATCH (d:Disease {name: \"Diabetes Mellitus, Type 1\")-[:VERY_SIMILAR_TO*1..2]-(t:Disease)\n",
    "RETURN d, t\n",
    "```\n",
    "\n",
    "![Similaridade 2 níveis](../img/similaridade_2_niveis.png \"Title\")"
   ]
  },
  {
   "cell_type": "markdown",
   "metadata": {},
   "source": [
    "### Listar todas as doenças da componente conexa da Diabetes Tipo 1\n",
    "\n",
    "Primeiro faz a listagem de componentes conexas e retorna o id da componente em que se encontra a Diabetes Tipo 1.\n",
    "    \n",
    "```\n",
    "CALL algo.unionFind.stream('Disease', 'VERY_SIMILAR_TO', {})\n",
    "YIELD nodeId, setId\n",
    "\n",
    "MATCH (d:Disease) \n",
    "WHERE id(d) = nodeId AND d.name = \"Diabetes Mellitus, Type 1\"\n",
    "RETURN d.name AS disease, setId\n",
    "```\n",
    "\n",
    "Salvo o setId, podemos listar as doenças desse conjunto:\n",
    "\n",
    "```\n",
    "CALL algo.unionFind.stream('Disease', 'VERY_SIMILAR_TO', {})\n",
    "YIELD nodeId, setId\n",
    "\n",
    "MATCH (d:Disease)-[r:VERY_SIMILAR_TO]-(:Disease) \n",
    "WHERE id(d) = nodeId AND setId = 12\n",
    "RETURN d, r\n",
    "```\n",
    "\n",
    "![Componente Conexa](../img/diabetes_componente_conexa.png \"Title\")"
   ]
  },
  {
   "cell_type": "markdown",
   "metadata": {},
   "source": [
    "### Usar algoritmo Label Propagation para encontrar clusters de doenças altamente similares\n",
    "\n",
    "Primeiramente roda-se o algoritmo setando a propriedade partition como o id do cluster encontrado em cada doença\n",
    "\n",
    "```\n",
    "CALL algo.labelPropagation.stream(\"Disease\", \"VERY_SIMILAR_TO\", {iterations:1, weightProperty:'score', partitionProperty:'partition', concurrency:4, direction:'BOTH'})\n",
    "YIELD nodeId, label\n",
    "\n",
    "MATCH (d:Disease)\n",
    "WHERE id(d) = nodeId\n",
    "SET d.partition = label\n",
    "```\n",
    "\n",
    "Agora, a partir de uma doença encontra-se as outras pertencentes ao mesmo cluster que ela. No exemplo, usaremos \"Kidney Diseases\".\n",
    "\n",
    "```\n",
    "MATCH (a:Disease {name: \"Kidney Diseases\"})\n",
    "\n",
    "MATCH (d:Disease)\n",
    "WHERE d.partition = a.partition\n",
    "RETURN d\n",
    "```\n",
    "\n",
    "![Kidney Cluster](../img/kidney_cluster.png \"Title\")"
   ]
  },
  {
   "cell_type": "markdown",
   "metadata": {},
   "source": [
    "### Algoritmo PageRank para identificar as doenças com mais conexões entre similares\n",
    "\n",
    "Roda-se o algoritmo PageRank nas doenças e em suas relações VERY_SIMILAR_TO e faz a listagem das doenças com maior score.\n",
    "\n",
    "```\n",
    "CALL algo.pageRank.stream(\"Disease\", \"VERY_SIMILAR_TO\",\n",
    "    {iterations:20, dampingFactor:0.85, concurrency:4})\n",
    "YIELD nodeId, score\n",
    "\n",
    "MATCH (d:Disease)\n",
    "WHERE id(d) = nodeId\n",
    "\n",
    "RETURN d.name AS disease, score\n",
    "ORDER BY score DESC\n",
    "```\n",
    "\n",
    "| **Disease** | **Score** |\n",
    "|-------------|-----------|\n",
    "|Blepharophimosis|3.4534739999999995|\n",
    "|Orofaciodigital Syndromes|3.1682224999999997|\n",
    "|Hypoalphalipoproteinemias|2.3670379999999995|\n",
    "|Fibromatosis, Gingival|1.9850735000000002|\n",
    "|Chromosome Breakage|1.6526724999999998|"
   ]
  }
 ],
 "metadata": {
  "kernelspec": {
   "display_name": "SQL",
   "language": "SQL",
   "name": "sql"
  },
  "language_info": {
   "codemirror_mode": "sql",
   "file_extension": ".sql",
   "mimetype": "",
   "name": "SQL",
   "nbconverter_exporter": "",
   "version": ""
  },
  "toc": {
   "base_numbering": 1,
   "nav_menu": {},
   "number_sections": false,
   "sideBar": false,
   "skip_h1_title": false,
   "title_cell": "Table of Contents",
   "title_sidebar": "Contents",
   "toc_cell": false,
   "toc_position": {},
   "toc_section_display": false,
   "toc_window_display": false
  }
 },
 "nbformat": 4,
 "nbformat_minor": 2
}
