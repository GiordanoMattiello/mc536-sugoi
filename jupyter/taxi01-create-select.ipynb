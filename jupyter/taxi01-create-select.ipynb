{
 "cells": [
  {
   "cell_type": "code",
   "execution_count": 1,
   "metadata": {},
   "outputs": [],
   "source": [
    "%defaultDatasource jdbc:h2:mem:db"
   ]
  },
  {
   "cell_type": "code",
   "execution_count": 2,
   "metadata": {},
   "outputs": [],
   "source": [
    "DROP TABLE IF EXISTS Taxi;\n",
    "DROP TABLE IF EXISTS Cliente;\n",
    "DROP TABLE IF EXISTS Corrida;"
   ]
  },
  {
   "cell_type": "code",
   "execution_count": 3,
   "metadata": {},
   "outputs": [],
   "source": [
    "CREATE TABLE Taxi (\n",
    "  Placa VARCHAR(7) NOT NULL,\n",
    "  Marca VARCHAR(30) NOT NULL,\n",
    "  Modelo VARCHAR(30) NOT NULL,\n",
    "  AnoFab INTEGER,\n",
    "  Licenca VARCHAR(9),\n",
    "  PRIMARY KEY(Placa)\n",
    ");\n",
    "\n",
    "CREATE TABLE Cliente (\n",
    "  CliId VARCHAR(4) NOT NULL,\n",
    "  Nome VARCHAR(80) NOT NULL,\n",
    "  CPF VARCHAR(14) NOT NULL,\n",
    "  PRIMARY KEY(CliId)\n",
    ");\n",
    "\n",
    "CREATE TABLE Corrida (\n",
    "  CliId VARCHAR(4) NOT NULL,\n",
    "  Placa VARCHAR(7) NOT NULL,\n",
    "  DataPedido DATE NOT NULL,\n",
    "  PRIMARY KEY(CliId, Placa, DataPedido),\n",
    "  FOREIGN KEY(CliId)\n",
    "    REFERENCES Cliente(CliId)\n",
    "      ON DELETE NO ACTION\n",
    "      ON UPDATE NO ACTION,\n",
    "  FOREIGN KEY(Placa)\n",
    "    REFERENCES Taxi(Placa)\n",
    "      ON DELETE NO ACTION\n",
    "      ON UPDATE NO ACTION\n",
    ");"
   ]
  },
  {
   "cell_type": "code",
   "execution_count": 4,
   "metadata": {},
   "outputs": [],
   "source": [
    "INSERT INTO Cliente VALUES ('1532', 'Asdrúbal', '448.754.253-65');\n",
    "INSERT INTO Cliente VALUES ('1755', 'Doriana', '567.387.387-44');\n",
    "INSERT INTO Cliente VALUES ('1780', 'Quincas', '546.373.762-02');\n",
    "\n",
    "INSERT INTO Taxi VALUES ('DAE6534', 'Ford', 'Fiesta', 1999, 'MN572345');\n",
    "INSERT INTO Taxi VALUES ('DKL4598', 'Wolkswagen', 'Gol', 2001, 'AU876543');\n",
    "INSERT INTO Taxi VALUES ('DKL7878', 'Ford', 'Fiesta', 2001, 'OP102938');\n",
    "INSERT INTO Taxi VALUES ('JDM8776', 'Wolkswagen', 'Santana', 2002, 'QM365923');\n",
    "INSERT INTO Taxi VALUES ('JJM3692', 'Chevrolet', 'Corsa', 1999, 'UU335577');\n",
    "\n",
    "INSERT INTO Corrida VALUES ('1755', 'DAE6534', '2003-02-15');\n",
    "INSERT INTO Corrida VALUES ('1780', 'JDM8776', '2003-02-18');\n",
    "INSERT INTO Corrida VALUES ('1755', 'DKL7878', '2003-02-16');\n",
    "INSERT INTO Corrida VALUES ('1780', 'DKL4598', '2003-02-17');\n",
    "INSERT INTO Corrida VALUES ('1532', 'DKL4598', '2003-02-18');\n",
    "INSERT INTO Corrida VALUES ('1780', 'DAE6534', '2003-02-16');"
   ]
  },
  {
   "cell_type": "code",
   "execution_count": 5,
   "metadata": {},
   "outputs": [
    {
     "data": {
      "application/vnd.jupyter.widget-view+json": {
       "model_id": "88e16904-7ec9-4d49-8adc-c5c96c08df4f",
       "version_major": 2,
       "version_minor": 0
      },
      "method": "display_data"
     },
     "metadata": {},
     "output_type": "display_data"
    }
   ],
   "source": [
    "-- Todos os Taxis com todos os atributos\n",
    "SELECT * FROM Taxi;"
   ]
  },
  {
   "cell_type": "code",
   "execution_count": 6,
   "metadata": {
    "scrolled": true
   },
   "outputs": [
    {
     "data": {
      "application/vnd.jupyter.widget-view+json": {
       "model_id": "f6d0b93a-2e68-483c-b454-cc94fd185860",
       "version_major": 2,
       "version_minor": 0
      },
      "method": "display_data"
     },
     "metadata": {},
     "output_type": "display_data"
    }
   ],
   "source": [
    "-- Marca e Modelo dos Taxis disponíveis\n",
    "SELECT Marca, Modelo FROM Taxi;"
   ]
  },
  {
   "cell_type": "code",
   "execution_count": 7,
   "metadata": {},
   "outputs": [
    {
     "data": {
      "application/vnd.jupyter.widget-view+json": {
       "model_id": "a5065693-06f9-4962-8f26-325853385fbc",
       "version_major": 2,
       "version_minor": 0
      },
      "method": "display_data"
     },
     "metadata": {},
     "output_type": "display_data"
    }
   ],
   "source": [
    "-- Taxis fabricados depois do ano 2000\n",
    "SELECT * FROM Taxi WHERE AnoFab > 2000;"
   ]
  },
  {
   "cell_type": "code",
   "execution_count": 8,
   "metadata": {},
   "outputs": [
    {
     "data": {
      "application/vnd.jupyter.widget-view+json": {
       "model_id": "f7de0e7b-7659-44c9-b3ba-f77d5234cf53",
       "version_major": 2,
       "version_minor": 0
      },
      "method": "display_data"
     },
     "metadata": {},
     "output_type": "display_data"
    }
   ],
   "source": [
    "-- Placas que comecem com DK\n",
    "SELECT * FROM Taxi WHERE placa LIKE 'DK%';"
   ]
  },
  {
   "cell_type": "code",
   "execution_count": 9,
   "metadata": {},
   "outputs": [
    {
     "data": {
      "application/vnd.jupyter.widget-view+json": {
       "model_id": "efaeb2ed-8fc1-488a-a82b-887eede42ce9",
       "version_major": 2,
       "version_minor": 0
      },
      "method": "display_data"
     },
     "metadata": {},
     "output_type": "display_data"
    }
   ],
   "source": [
    "-- Placas com '7' na penultima posicao\n",
    "SELECT * FROM Taxi WHERE placa LIKE '%7_';"
   ]
  }
 ],
 "metadata": {
  "kernelspec": {
   "display_name": "SQL",
   "language": "SQL",
   "name": "sql"
  },
  "language_info": {
   "codemirror_mode": "sql",
   "file_extension": ".sql",
   "mimetype": "",
   "name": "SQL",
   "nbconverter_exporter": "",
   "version": ""
  },
  "toc": {
   "base_numbering": 1,
   "nav_menu": {},
   "number_sections": false,
   "sideBar": false,
   "skip_h1_title": false,
   "title_cell": "Table of Contents",
   "title_sidebar": "Contents",
   "toc_cell": false,
   "toc_position": {},
   "toc_section_display": false,
   "toc_window_display": false
  }
 },
 "nbformat": 4,
 "nbformat_minor": 2
}
